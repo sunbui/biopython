{
 "cells": [
  {
   "cell_type": "code",
   "execution_count": 24,
   "metadata": {},
   "outputs": [
    {
     "name": "stdout",
     "output_type": "stream",
     "text": [
      "['a', 'b', 'c', 'd', 'e']\n"
     ]
    }
   ],
   "source": [
    "basket = ['a','b','c','d','e']\n",
    "#adding \n",
    "# new_list = basket.append(100)\n",
    "# #insert(index,object) insert something to anywhere to the list\n",
    "# #for example (5,100) add 100 to index of four \n",
    "# #append add the data \n",
    "# basket.insert(0,1)\n",
    "print(basket)\n",
    "basket.reverse()\n",
    "#print(basket[::-1])\n",
    "\n"
   ]
  },
  {
   "cell_type": "markdown",
   "metadata": {},
   "source": []
  },
  {
   "cell_type": "code",
   "execution_count": 25,
   "metadata": {},
   "outputs": [
    {
     "data": {
      "text/plain": [
       "'a'"
      ]
     },
     "execution_count": 25,
     "metadata": {},
     "output_type": "execute_result"
    }
   ],
   "source": [
    "basket.pop()"
   ]
  },
  {
   "cell_type": "code",
   "execution_count": 26,
   "metadata": {},
   "outputs": [
    {
     "name": "stdout",
     "output_type": "stream",
     "text": [
      "\n"
     ]
    }
   ],
   "source": [
    "sun =['u','y','b']\n",
    "y = sun.reverse()\n",
    "print()"
   ]
  },
  {
   "cell_type": "code",
   "execution_count": 27,
   "metadata": {},
   "outputs": [
    {
     "name": "stdout",
     "output_type": "stream",
     "text": [
      "hi my name sun\n"
     ]
    }
   ],
   "source": [
    "new_sun = ' '.join(['hi','my','name','sun'])\n",
    "print(new_sun)"
   ]
  },
  {
   "cell_type": "code",
   "execution_count": 28,
   "metadata": {},
   "outputs": [
    {
     "name": "stdout",
     "output_type": "stream",
     "text": [
      "none\n"
     ]
    }
   ],
   "source": [
    "# none \n",
    "sun = 'none'\n",
    "print(sun) \n",
    "# none = null , none is valid "
   ]
  },
  {
   "cell_type": "code",
   "execution_count": 73,
   "metadata": {},
   "outputs": [
    {
     "name": "stdout",
     "output_type": "stream",
     "text": [
      "1\n",
      "2\n",
      "3\n",
      "[4, 5, 6, 7]\n",
      "8\n",
      "9\n"
     ]
    }
   ],
   "source": [
    "# list unpacking \n",
    "a,b,c, *other,d,e =[1,2,3,4,5,6,7,8,9]\n",
    "print(a)\n",
    "print(b)\n",
    "print(c)\n",
    "print(other)\n",
    "print(d)\n",
    "print(e)"
   ]
  },
  {
   "cell_type": "code",
   "execution_count": 74,
   "metadata": {},
   "outputs": [
    {
     "name": "stdout",
     "output_type": "stream",
     "text": [
      "hello\n",
      "{'a': [1, 2, 3], 'b': 'hello', 'x': True}\n"
     ]
    }
   ],
   "source": [
    "#dictionary data type\n",
    "# dictionary is not sorted, no order, a key with value\n",
    "# dictionary keys need a special property and a key need to be immutable ( not changeable)\n",
    "dictionary = { \n",
    "'a': [1,2,3], \n",
    "'b': 'hello',\n",
    "'x': True\n",
    "}\n",
    "#dictionary data structure  like a list\n",
    "# a list has order \n",
    "my_list =[\n",
    "    { \n",
    "    'a': [4,5,6], \n",
    "    'b': 'sun',\n",
    "    'x': True\n",
    "    },\n",
    "    { \n",
    "    'e': [7,8,9], \n",
    "    'd': 'azim',\n",
    "    'f': False\n",
    "    }\n",
    "    \n",
    "]\n",
    "print(dictionary['b'])\n",
    "print(dictionary)\n"
   ]
  },
  {
   "cell_type": "code",
   "execution_count": 75,
   "metadata": {},
   "outputs": [],
   "source": [
    "azim = ['a','b','c']\n",
    "azim[0] = 's'"
   ]
  },
  {
   "cell_type": "code",
   "execution_count": 76,
   "metadata": {},
   "outputs": [],
   "source": [
    "#tuple \n"
   ]
  },
  {
   "cell_type": "code",
   "execution_count": 77,
   "metadata": {},
   "outputs": [
    {
     "name": "stdout",
     "output_type": "stream",
     "text": [
      "[1, 2, 3, 4, 5]\n",
      "{1, 2, 3, 4, 5}\n"
     ]
    }
   ],
   "source": [
    "#sets \n",
    "my_set ={1,2,3,4,5,5}\n",
    "print(list(my_set))\n",
    "#list \n",
    "my_list = [1,2,3,4,5]\n",
    "print(set(my_list))"
   ]
  },
  {
   "cell_type": "code",
   "execution_count": 78,
   "metadata": {},
   "outputs": [
    {
     "name": "stdout",
     "output_type": "stream",
     "text": [
      "{1, 2, 3}\n",
      "None\n",
      "{1, 2, 3, 4}\n",
      "None\n",
      "{1, 2, 3, 4, 5, 6, 7, 8, 9, 10}\n",
      "{4, 5, 6, 7, 8, 9, 10}\n",
      "False\n",
      "True\n",
      "True\n",
      "{1, 2, 3, 4, 5, 6, 7, 8, 9, 10}\n",
      "{1, 2, 3, 4, 5, 6, 7, 8, 9, 10}\n"
     ]
    }
   ],
   "source": [
    "my_set2 = {1,2,3,4,5}\n",
    "your_set= {4,5,6,7,8,9,10}\n",
    "#.difference() to show what different between 2 data sets: the diferent \n",
    "print(my_set2.difference(your_set))\n",
    "#.discard() is remove the element in the set \n",
    "print(my_set2.discard(5))\n",
    "print(my_set2)\n",
    "#.update() add all elements that your_set has to  my_set2 \n",
    "print(my_set2.update(your_set))\n",
    "print(my_set2)\n",
    "#.intersection(self, other) show the similar between 2 data sets \n",
    "print(my_set2.intersection(your_set))\n",
    "# print(my_set2)\n",
    "#.isdisjoint() means these sets have nothing in common \n",
    "#but in this case 2 data set has commons (4,5)\n",
    "print(my_set2.isdisjoint(your_set))\n",
    "\n",
    "#.issubset()\n",
    "my_set3= {4,5}\n",
    "print(my_set3.issubset(your_set))\n",
    "#it is true because your_set contains my_set3\n",
    "#.issuperset()\n",
    "# opposite with issubset() \n",
    "print(your_set.issuperset(my_set3))\n",
    "#.union() united these sets together but removed any duplicates \n",
    "print(my_set2.union(your_set))\n",
    "#or\n",
    "print(my_set2 | your_set)"
   ]
  },
  {
   "cell_type": "code",
   "execution_count": null,
   "metadata": {},
   "outputs": [],
   "source": [
    "#indentation in Python \n"
   ]
  },
  {
   "cell_type": "code",
   "execution_count": 5,
   "metadata": {},
   "outputs": [
    {
     "name": "stdout",
     "output_type": "stream",
     "text": [
      "('name', 'Golem')\n",
      "('age', 5000)\n",
      "('swim', False)\n",
      "Golem\n",
      "5000\n",
      "False\n",
      "name\n",
      "age\n",
      "swim\n",
      "name Golem\n",
      "age 5000\n",
      "swim False\n"
     ]
    }
   ],
   "source": [
    "#iterable - list, dictionary, tuple, set, and string \n",
    "#iterate -> one by one check each item in the collection \n",
    "\n",
    "user = {\n",
    "    'name': 'Golem',\n",
    "    'age': 5000,\n",
    "    'swim': False\n",
    "}\n",
    "#set, dictionary have 3 methods of for loop\n",
    "for item in user.items(): \n",
    "    print(item)\n",
    "    \n",
    "for item in user.values():\n",
    "    print(item)\n",
    "    \n",
    "for item in user.keys():\n",
    "    print(item)\n",
    "#other way\n",
    "for key, value in user.items():\n",
    "    print(key, value)"
   ]
  },
  {
   "cell_type": "code",
   "execution_count": 6,
   "metadata": {},
   "outputs": [
    {
     "name": "stdout",
     "output_type": "stream",
     "text": [
      "10\n"
     ]
    }
   ],
   "source": [
    "#counter \n",
    "my_list = [1,2,3,4,5,6,7,8,9,10]\n",
    "\n",
    "for item in my_list: \n",
    "    counter = 0 \n",
    "    counter = counter + item\n",
    "print(counter)"
   ]
  },
  {
   "cell_type": "code",
   "execution_count": 18,
   "metadata": {},
   "outputs": [
    {
     "name": "stdout",
     "output_type": "stream",
     "text": [
      "0\n",
      "1\n",
      "2\n",
      "3\n",
      "4\n",
      "5\n",
      "6\n",
      "7\n",
      "8\n",
      "9\n",
      "0\n",
      "2\n",
      "4\n",
      "6\n",
      "8\n",
      "[0, 1, 2, 3, 4, 5, 6, 7, 8, 9]\n",
      "[0, 1, 2, 3, 4, 5, 6, 7, 8, 9]\n",
      "[0, 1, 2, 3, 4, 5, 6, 7, 8, 9]\n",
      "[0, 1, 2, 3, 4, 5, 6, 7, 8, 9]\n",
      "[0, 1, 2, 3, 4, 5, 6, 7, 8, 9]\n"
     ]
    }
   ],
   "source": [
    "#range()\n",
    "for item in range(0,10): \n",
    "    print(item)\n",
    "#range(0,10,2)\n",
    "for item in range(0,10,2): \n",
    "    print(item)\n",
    "#range(0,10,-2)\n",
    "for _ in range(10,0,-2): \n",
    "    print(list(range(10)))"
   ]
  },
  {
   "cell_type": "code",
   "execution_count": 7,
   "metadata": {},
   "outputs": [
    {
     "name": "stdout",
     "output_type": "stream",
     "text": [
      "index of 50 is 50\n"
     ]
    }
   ],
   "source": [
    "#enumerate \n",
    "for i,char in enumerate(list(range(100))):\n",
    "    if char == 50 :\n",
    "        print(f'index of 50 is {i}')"
   ]
  },
  {
   "cell_type": "code",
   "execution_count": 1,
   "metadata": {},
   "outputs": [
    {
     "name": "stdout",
     "output_type": "stream",
     "text": [
      "0\n"
     ]
    }
   ],
   "source": [
    "# while loop \n",
    "i =0 \n",
    "while 0< 50: \n",
    "    print(i)\n",
    "    break"
   ]
  },
  {
   "cell_type": "code",
   "execution_count": 9,
   "metadata": {},
   "outputs": [
    {
     "name": "stdout",
     "output_type": "stream",
     "text": [
      "1\n",
      "2\n",
      "3\n",
      "1\n",
      "2\n",
      "3\n"
     ]
    }
   ],
   "source": [
    "# for loop \n",
    "for item in [1,2,3]: \n",
    "    print(item)\n",
    "\n",
    "#while loop\n",
    "my_list = [1,2,3]\n",
    "i = 0 \n",
    "while i < len(my_list):\n",
    "    print(my_list[i])\n",
    "    i +=1"
   ]
  },
  {
   "cell_type": "code",
   "execution_count": 2,
   "metadata": {},
   "outputs": [
    {
     "name": "stdout",
     "output_type": "stream",
     "text": [
      "say somethingbye\n"
     ]
    },
    {
     "ename": "NameError",
     "evalue": "name 'response' is not defined",
     "output_type": "error",
     "traceback": [
      "\u001b[0;31m---------------------------------------------------------------------------\u001b[0m",
      "\u001b[0;31mNameError\u001b[0m                                 Traceback (most recent call last)",
      "\u001b[0;32m<ipython-input-2-727b66faaf14>\u001b[0m in \u001b[0;36m<module>\u001b[0;34m\u001b[0m\n\u001b[1;32m      1\u001b[0m \u001b[0;32mwhile\u001b[0m \u001b[0;32mTrue\u001b[0m \u001b[0;34m:\u001b[0m\u001b[0;34m\u001b[0m\u001b[0;34m\u001b[0m\u001b[0m\n\u001b[1;32m      2\u001b[0m     \u001b[0mreponse\u001b[0m \u001b[0;34m=\u001b[0m \u001b[0minput\u001b[0m\u001b[0;34m(\u001b[0m\u001b[0;34m'say something'\u001b[0m\u001b[0;34m)\u001b[0m\u001b[0;34m\u001b[0m\u001b[0;34m\u001b[0m\u001b[0m\n\u001b[0;32m----> 3\u001b[0;31m     \u001b[0;32mif\u001b[0m \u001b[0;34m(\u001b[0m\u001b[0mresponse\u001b[0m \u001b[0;34m==\u001b[0m \u001b[0;34m'bye'\u001b[0m\u001b[0;34m)\u001b[0m\u001b[0;34m:\u001b[0m\u001b[0;34m\u001b[0m\u001b[0;34m\u001b[0m\u001b[0m\n\u001b[0m\u001b[1;32m      4\u001b[0m         \u001b[0;32mbreak\u001b[0m\u001b[0;34m\u001b[0m\u001b[0;34m\u001b[0m\u001b[0m\n",
      "\u001b[0;31mNameError\u001b[0m: name 'response' is not defined"
     ]
    }
   ],
   "source": [
    "while True :\n",
    "    reponse = input('say something')\n",
    "    if (response == 'bye'):\n",
    "        break"
   ]
  },
  {
   "cell_type": "code",
   "execution_count": 1,
   "metadata": {},
   "outputs": [],
   "source": [
    "#break, countinue, pass\n",
    " "
   ]
  },
  {
   "cell_type": "code",
   "execution_count": 6,
   "metadata": {},
   "outputs": [
    {
     "name": "stdout",
     "output_type": "stream",
     "text": [
      "   *   \n",
      "  ***  \n",
      " ***** \n",
      "*******\n",
      "   *   \n",
      "   *   \n"
     ]
    }
   ],
   "source": [
    "picture = [\n",
    "    [0,0,0,1,0,0,0],\n",
    "    [0,0,1,1,1,0,0],\n",
    "    [0,1,1,1,1,1,0],\n",
    "    [1,1,1,1,1,1,1],\n",
    "    [0,0,0,1,0,0,0],\n",
    "    [0,0,0,1,0,0,0]\n",
    "]\n",
    "for image in picture : \n",
    "    for pixel in image:\n",
    "        if(pixel == 1):\n",
    "            print('*', end='')\n",
    "        else:\n",
    "            print(' ',end='')\n",
    "    print('')"
   ]
  },
  {
   "cell_type": "code",
   "execution_count": 7,
   "metadata": {},
   "outputs": [],
   "source": [
    "#clean \n",
    "#readability \n",
    "#predictability \n",
    "#DRY do not repeat yourself"
   ]
  },
  {
   "cell_type": "code",
   "execution_count": 16,
   "metadata": {},
   "outputs": [
    {
     "name": "stdout",
     "output_type": "stream",
     "text": [
      "['a', 'c']\n"
     ]
    }
   ],
   "source": [
    "some_list = ['a','a','b','c','c']\n",
    "\n",
    "duplicates = []\n",
    "for i in some_list:\n",
    "    if some_list.count(i) > 1:\n",
    "        if i not in duplicates:\n",
    "            duplicates.append(i)\n",
    "        \n",
    "        \n",
    "print(duplicates)\n",
    "        "
   ]
  },
  {
   "cell_type": "code",
   "execution_count": 17,
   "metadata": {},
   "outputs": [],
   "source": [
    "#functions \n"
   ]
  },
  {
   "cell_type": "code",
   "execution_count": 32,
   "metadata": {},
   "outputs": [
    {
     "name": "stdout",
     "output_type": "stream",
     "text": [
      "hello Sun and :)\n",
      "hello sun and :(\n"
     ]
    }
   ],
   "source": [
    "# parameters are used when we define the function \n",
    "#default paramenters : \n",
    "def say_hello(name, emoji):\n",
    "    print(f'hello {name} and {emoji}')\n",
    "    \n",
    "\n",
    "\n",
    "# positional arguments are used when we call the function \n",
    "say_hello('Sun', ':)') # call or invoke the function \n",
    "#keyword arugments \n",
    "say_hello(emoji = ':(', name= 'sun') \n",
    "#it works the same but this way you make the code is more complicated and confused people\n"
   ]
  },
  {
   "cell_type": "code",
   "execution_count": 37,
   "metadata": {},
   "outputs": [
    {
     "name": "stdout",
     "output_type": "stream",
     "text": [
      "30\n"
     ]
    }
   ],
   "source": [
    "#return funtions\n",
    "def sum (num1, num2):\n",
    "    def another_func(n1, n2): # the reason this function does not exit because it belong to this function def sum\n",
    "        return n1 + n2   # then this function another_function does not work\n",
    "    return another_func(num1, num2) # why this part is num1 and num2 \n",
    "# as long as we return something from a function, it exits that function and then return 5 or print does not work \n",
    "    return 5\n",
    "    print('hello')\n",
    "\n",
    "# should do one thing really well \n",
    "# should return something \n",
    "total = sum(10,20)\n",
    "print(total)\n"
   ]
  },
  {
   "cell_type": "code",
   "execution_count": 41,
   "metadata": {},
   "outputs": [
    {
     "name": "stdout",
     "output_type": "stream",
     "text": [
      "What is your age?: 94\n",
      "Powering On. Enjoy the ride!\n"
     ]
    }
   ],
   "source": [
    "#exercise 1\n",
    "age = input(\"What is your age?: \")\n",
    "\n",
    "if int(age) < 18:\n",
    "\tprint(\"Sorry, you are too young to drive this car. Powering off\")\n",
    "elif int(age) > 18:\n",
    "\tprint(\"Powering On. Enjoy the ride!\");\n",
    "elif int(age) == 18:\n",
    "\tprint(\"Congratulations on your first year of driving. Enjoy the ride!\")\n",
    "\n",
    "#1. Wrap the above code in a function called checkDriverAge(). Whenever you call this function, you will get prompted for age. \n",
    "# Notice the benefit in having checkDriverAge() instead of copying and pasting the function everytime?\n",
    "\n",
    "    \n",
    "#2 Instead of using the input(). Now, make the checkDriverAge() function accept an argument of age, so that if you enter:\n",
    "#checkDriverAge(92);\n",
    "#it returns \"Powering On. Enjoy the ride!\"\n",
    "#also make it so that the default age is set to 0 if no argument is given."
   ]
  },
  {
   "cell_type": "code",
   "execution_count": 47,
   "metadata": {},
   "outputs": [
    {
     "name": "stdout",
     "output_type": "stream",
     "text": [
      "Powering On. Enjoy the ride!\n"
     ]
    }
   ],
   "source": [
    "def checkDriverAge(age= 0):\n",
    "    if int(age) <18 :\n",
    "        print(\"Sorry, you are too young to drive this car. Powering off\")\n",
    "    elif int(age) >= 18 and int(age) < 60:\n",
    "        print(\"Powering On. Enjoy the ride!\");\n",
    "    elif int(age) > 60:\n",
    "        print(\"You should have someone drive you home\")\n",
    "checkDriverAge(52)"
   ]
  },
  {
   "cell_type": "code",
   "execution_count": 48,
   "metadata": {},
   "outputs": [],
   "source": [
    "#methods has to be owned by something \n",
    "# what owned the method is to the left of the DOT \n",
    "#docstrings is to commment inside of our functions \n",
    "def test(a):\n",
    "    '''\n",
    "    Info: this function test and prints param a\n",
    "    something else that i want to describe that i dont need # after enter\n",
    "    '''\n",
    "    print(a)\n",
    "    test()\n",
    "    len()"
   ]
  },
  {
   "cell_type": "code",
   "execution_count": null,
   "metadata": {},
   "outputs": [],
   "source": []
  }
 ],
 "metadata": {
  "kernelspec": {
   "display_name": "Python 3",
   "language": "python",
   "name": "python3"
  },
  "language_info": {
   "codemirror_mode": {
    "name": "ipython",
    "version": 3
   },
   "file_extension": ".py",
   "mimetype": "text/x-python",
   "name": "python",
   "nbconvert_exporter": "python",
   "pygments_lexer": "ipython3",
   "version": "3.8.3"
  }
 },
 "nbformat": 4,
 "nbformat_minor": 4
}
